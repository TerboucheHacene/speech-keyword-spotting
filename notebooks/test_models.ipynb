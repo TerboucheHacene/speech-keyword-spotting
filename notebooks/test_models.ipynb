{
 "cells": [
  {
   "cell_type": "code",
   "execution_count": 77,
   "metadata": {},
   "outputs": [],
   "source": [
    "import torch\n",
    "from torchaudio.datasets import SPEECHCOMMANDS\n",
    "import os\n",
    "import matplotlib.pyplot as plt\n",
    "import IPython.display as ipd\n",
    "import torchaudio\n",
    "import glob\n",
    "import torch.nn.functional as F\n",
    "import torch.nn as nn\n",
    "import torch.utils.data as tud\n",
    "import pandas as pd\n",
    "import torch\n"
   ]
  },
  {
   "cell_type": "code",
   "execution_count": 51,
   "metadata": {},
   "outputs": [],
   "source": [
    "\n",
    "class SubsetSC(SPEECHCOMMANDS):\n",
    "    def __init__(self, subset: str = None):\n",
    "        super().__init__(\"../..\", download=False)\n",
    "\n",
    "        def load_list(filename):\n",
    "            filepath = os.path.join(self._path, filename)\n",
    "            with open(filepath) as fileobj:\n",
    "                return [os.path.join(self._path, line.strip()) for line in fileobj]\n",
    "\n",
    "        if subset == \"validation\":\n",
    "            self._walker = load_list(\"validation_list.txt\")\n",
    "        elif subset == \"testing\":\n",
    "            self._walker = load_list(\"testing_list.txt\")\n",
    "        elif subset == \"training\":\n",
    "            excludes = load_list(\"validation_list.txt\") + load_list(\"testing_list.txt\")\n",
    "            excludes = set(excludes)\n",
    "            self._walker = [w for w in self._walker if w not in excludes]"
   ]
  },
  {
   "cell_type": "code",
   "execution_count": 52,
   "metadata": {},
   "outputs": [],
   "source": [
    "# Create training and testing split of the data. We do not use validation in this tutorial.\n",
    "train_set = SubsetSC(\"training\")\n",
    "test_set = SubsetSC(\"testing\")\n",
    "\n",
    "waveform, sample_rate, label, speaker_id, utterance_number = train_set[0]\n"
   ]
  },
  {
   "cell_type": "code",
   "execution_count": 53,
   "metadata": {},
   "outputs": [
    {
     "data": {
      "text/plain": [
       "(tensor([[-0.0658, -0.0709, -0.0753,  ..., -0.0700, -0.0731, -0.0704]]),\n",
       " 16000,\n",
       " 'backward',\n",
       " '0165e0e8',\n",
       " 0)"
      ]
     },
     "execution_count": 53,
     "metadata": {},
     "output_type": "execute_result"
    }
   ],
   "source": [
    "\n",
    "waveform, sample_rate, label, speaker_id, utterance_number"
   ]
  },
  {
   "cell_type": "code",
   "execution_count": 55,
   "metadata": {},
   "outputs": [],
   "source": [
    "class AudioDataset(tud.Dataset):\n",
    "    \"\"\"\n",
    "    A rapper class for the UrbanSound8K dataset.\n",
    "    \"\"\"\n",
    "\n",
    "    def __init__(\n",
    "        self,  \n",
    "        annotation_file, \n",
    "        audio_dir, \n",
    "        folds,\n",
    "        target_sample_rate=16000,\n",
    "        num_samples=32000):\n",
    "        self.audio_file = pd.read_csv(annotation_file)\n",
    "        self.folds = folds\n",
    "        self.audio_paths = glob.glob(audio_dir + '/*' + str(self.folds) + '/*')\n",
    "        self.num_samples = num_samples\n",
    "        self.target_sample_rate = target_sample_rate\n",
    "    \n",
    "    \n",
    "\n",
    "    def __len__(self):\n",
    "        return len(self.audio_paths)\n",
    "\n",
    "    def __getitem__(self, idx):\n",
    "        \n",
    "        audio_sample_path = self._get_audio_sample_path(idx)\n",
    "        label = self._get_audio_sample_label(audio_sample_path)\n",
    "        signal, sr = torchaudio.load(audio_sample_path)\n",
    "        print(signal.shape, sr)\n",
    "        signal = self._resample_if_necessary(signal, sr)\n",
    "        print(signal.shape, sr)\n",
    "        signal = self._mix_down_if_necessary(signal)\n",
    "        signal = self._cut_if_necessary(signal)\n",
    "        print(signal.shape, sr)\n",
    "        signal = self._right_pad_if_necessary(signal)\n",
    "        print(signal.shape, sr)\n",
    "        \n",
    "        return signal, label\n",
    "\n",
    "    def _cut_if_necessary(self, signal):\n",
    "        if signal.shape[1] > self.num_samples:\n",
    "            signal = signal[:, :self.num_samples]\n",
    "        return signal\n",
    "\n",
    "    def _right_pad_if_necessary(self, signal):\n",
    "        length_signal = signal.shape[1]\n",
    "        if length_signal < self.num_samples:\n",
    "            num_missing_samples = self.num_samples - length_signal\n",
    "            last_dim_padding = (0, num_missing_samples)\n",
    "            signal = torch.nn.functional.pad(signal, last_dim_padding)\n",
    "        return signal\n",
    "\n",
    "    def _resample_if_necessary(self, signal, sr):\n",
    "        if sr != self.target_sample_rate:\n",
    "            resampler = torchaudio.transforms.Resample(sr, self.target_sample_rate)\n",
    "            signal = resampler(signal)\n",
    "        return signal\n",
    "\n",
    "    def _mix_down_if_necessary(self, signal):\n",
    "        if signal.shape[0] > 1:\n",
    "            signal = torch.mean(signal, dim=0, keepdim=True)\n",
    "        return signal\n",
    "\n",
    "    def _get_audio_sample_path(self, idx):\n",
    "        audio_path = self.audio_paths[idx]\n",
    "        return audio_path\n",
    "\n",
    "    def _get_audio_sample_label(self, audio_path):\n",
    "        audio_name = audio_path.split(sep='/')[-1]\n",
    "        label = self.audio_file.loc[self.audio_file.slice_file_name == audio_name].iloc[0,-2]\n",
    "        return label"
   ]
  },
  {
   "cell_type": "code",
   "execution_count": 56,
   "metadata": {},
   "outputs": [
    {
     "data": {
      "text/plain": [
       "7895"
      ]
     },
     "execution_count": 56,
     "metadata": {},
     "output_type": "execute_result"
    }
   ],
   "source": [
    "train_ds = AudioDataset(\n",
    "    audio_dir=\"/home/hacene/Documents/UrbanSound8K/audio/\", \n",
    "    annotation_file=\"/home/hacene/Documents/UrbanSound8K/metadata/UrbanSound8K.csv\",\n",
    "    folds=[1,2, 3, 4, 5, 6, 7, 8, 9],\n",
    "    )\n",
    "len(train_ds)"
   ]
  },
  {
   "cell_type": "code",
   "execution_count": 57,
   "metadata": {},
   "outputs": [
    {
     "name": "stdout",
     "output_type": "stream",
     "text": [
      "torch.Size([1, 107520]) 96000\n",
      "torch.Size([1, 17920]) 96000\n",
      "torch.Size([1, 17920]) 96000\n",
      "torch.Size([1, 32000]) 96000\n"
     ]
    },
    {
     "data": {
      "text/plain": [
       "torch.Size([1, 32000])"
      ]
     },
     "execution_count": 57,
     "metadata": {},
     "output_type": "execute_result"
    }
   ],
   "source": [
    "train_ds[0][0].shape"
   ]
  },
  {
   "cell_type": "code",
   "execution_count": 59,
   "metadata": {},
   "outputs": [
    {
     "data": {
      "text/plain": [
       "torch.Size([1, 16000])"
      ]
     },
     "execution_count": 59,
     "metadata": {},
     "output_type": "execute_result"
    }
   ],
   "source": [
    "waveform.shape"
   ]
  },
  {
   "cell_type": "code",
   "execution_count": 98,
   "metadata": {},
   "outputs": [],
   "source": [
    "mel_spectrogram = torchaudio.transforms.MelSpectrogram(\n",
    "        sample_rate=16000,\n",
    "        n_fft=512,\n",
    "        hop_length=128,\n",
    "        n_mels=64\n",
    "    )"
   ]
  },
  {
   "cell_type": "code",
   "execution_count": 99,
   "metadata": {},
   "outputs": [],
   "source": [
    "spec = mel_spectrogram(waveform)"
   ]
  },
  {
   "cell_type": "code",
   "execution_count": 100,
   "metadata": {},
   "outputs": [
    {
     "data": {
      "text/plain": [
       "torch.Size([1, 64, 126])"
      ]
     },
     "execution_count": 100,
     "metadata": {},
     "output_type": "execute_result"
    }
   ],
   "source": [
    "spec.shape"
   ]
  },
  {
   "cell_type": "code",
   "execution_count": 119,
   "metadata": {},
   "outputs": [],
   "source": [
    "def make_layers():\n",
    "    layers = []\n",
    "    in_channels = 1\n",
    "    for v in [64, \"M\", 128, \"M\", 256, 256, \"M\", 512, 512]:\n",
    "        if v == \"M\":\n",
    "            layers += [nn.MaxPool2d(kernel_size=2, stride=2)]\n",
    "        else:\n",
    "            conv2d = nn.Conv2d(in_channels, v, kernel_size=3, padding=1)\n",
    "            layers += [conv2d, nn.ReLU(inplace=True)]\n",
    "            in_channels = v\n",
    "    layers += [nn.AvgPool2d(kernel_size=(2, 4), stride=(2, 2))]\n",
    "    return nn.Sequential(*layers)"
   ]
  },
  {
   "cell_type": "code",
   "execution_count": 120,
   "metadata": {},
   "outputs": [],
   "source": [
    "vgg = make_layers()"
   ]
  },
  {
   "cell_type": "code",
   "execution_count": 121,
   "metadata": {},
   "outputs": [
    {
     "name": "stdout",
     "output_type": "stream",
     "text": [
      "torch.Size([1, 512, 4, 6])\n"
     ]
    }
   ],
   "source": [
    "y = vgg(spec.unsqueeze(0))\n",
    "print(y.shape)"
   ]
  },
  {
   "cell_type": "code",
   "execution_count": null,
   "metadata": {},
   "outputs": [],
   "source": []
  }
 ],
 "metadata": {
  "interpreter": {
   "hash": "991c02706a223e84f74a19694c1834838a0a96140c6cebd147465d18629f65b9"
  },
  "kernelspec": {
   "display_name": "Python 3.8.5 64-bit ('speech-keyword-spotting-9EJVmc6z-py3.8': poetry)",
   "language": "python",
   "name": "python3"
  },
  "language_info": {
   "codemirror_mode": {
    "name": "ipython",
    "version": 3
   },
   "file_extension": ".py",
   "mimetype": "text/x-python",
   "name": "python",
   "nbconvert_exporter": "python",
   "pygments_lexer": "ipython3",
   "version": "3.8.5"
  },
  "orig_nbformat": 4
 },
 "nbformat": 4,
 "nbformat_minor": 2
}
